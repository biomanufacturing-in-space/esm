{
 "cells": [
  {
   "cell_type": "code",
   "execution_count": 1,
   "id": "6a1fa906-b0dc-4dae-8a53-6873a02f9487",
   "metadata": {},
   "outputs": [],
   "source": [
    "import pandas as pd\n",
    "import matplotlib.pyplot as plt\n",
    "import ipywidgets as widgets\n",
    "from ipywidgets import interactive"
   ]
  },
  {
   "cell_type": "code",
   "execution_count": 3,
   "id": "9e785441-a825-46b9-b668-47eb0d5303c4",
   "metadata": {},
   "outputs": [],
   "source": [
    "df = pd.read_excel('ESM_book.xlsx')\n",
    "\n",
    "# Replace NaN with zero on all columns \n",
    "df = df.fillna(0)"
   ]
  },
  {
   "cell_type": "code",
   "execution_count": 7,
   "id": "7d7301bd-fabf-409d-991f-a7d30ac660e8",
   "metadata": {},
   "outputs": [
    {
     "name": "stdin",
     "output_type": "stream",
     "text": [
      "Enter scenarios:  bioreactor, shipping\n"
     ]
    },
    {
     "name": "stderr",
     "output_type": "stream",
     "text": [
      "/var/folders/yk/12xt1n0s2l7dwp55v66mdnm00000gn/T/ipykernel_97959/3475541256.py:21: FutureWarning: The frame.append method is deprecated and will be removed from pandas in a future version. Use pandas.concat instead.\n",
      "  subframes[scenario] = subframes[scenario].append(df_sum[scenario], ignore_index = True)\n",
      "/var/folders/yk/12xt1n0s2l7dwp55v66mdnm00000gn/T/ipykernel_97959/3475541256.py:21: FutureWarning: The frame.append method is deprecated and will be removed from pandas in a future version. Use pandas.concat instead.\n",
      "  subframes[scenario] = subframes[scenario].append(df_sum[scenario], ignore_index = True)\n"
     ]
    },
    {
     "data": {
      "application/vnd.jupyter.widget-view+json": {
       "model_id": "07e368e3e256404684d921af1ed24ec6",
       "version_major": 2,
       "version_minor": 0
      },
      "text/plain": [
       "interactive(children=(IntSlider(value=500, description='d', max=1000, min=1), FloatSlider(value=0.0, descripti…"
      ]
     },
     "execution_count": 7,
     "metadata": {},
     "output_type": "execute_result"
    }
   ],
   "source": [
    "# Prompt the user to enter scenarios, split by commas\n",
    "my_list = input(\"Enter scenarios: \").split(\",\")\n",
    "# Remove any leading/trailing whitespace from each scenario\n",
    "my_list = [scenario.replace(\" \", \"\") for scenario in my_list]\n",
    "\n",
    "# Prepare a dictionary to hold sub-dataframes (subframes) for each scenario\n",
    "subframes = {}\n",
    "# Prepare a dictionary to hold summary data for each scenario\n",
    "df_sum = {}\n",
    "# Iterate over each entered scenario\n",
    "for scenario in my_list:\n",
    "    # Filter the main dataframe to include only rows where 'Tag' contains the current scenario\n",
    "    # Reset the index of the resulting sub-dataframe for easier handling\n",
    "    subframes[scenario] = df[df['Tag'].str.contains(scenario)].reset_index(drop=True)\n",
    "    # Create a summary row for the sub-dataframe, which includes the sum for numerical columns\n",
    "    # and concatenation for non-numerical columns\n",
    "    df_sum[scenario] = subframes[scenario].apply(lambda x: x.sum() if x.dtype.kind in 'bifc' else ' '.join(x[x.notnull()].tolist()))\n",
    "    # Assign the 'Tag' value of the summary row to be the first 'Tag' value of the sub-dataframe, or \"No Match\" if the sub-dataframe is empty\n",
    "    df_sum[scenario]['Tag'] = subframes[scenario]['Tag'][0] if not subframes[scenario].empty else \"No Match\"\n",
    "    # Append the summary row to the sub-dataframe\n",
    "    subframes[scenario] = subframes[scenario].append(df_sum[scenario], ignore_index = True)\n",
    "\n",
    "# Define the main plotting function, which takes several parameters that influence the computation of mars_esm_\n",
    "def plot_mars_esm(d, Veq, Peq, Ceq, CTeq, Weq, Req, Medeq, Nuteq, Mateq):\n",
    "    # Prepare a list of days to be evaluated, starting from day 1 to day 'd'\n",
    "    durations = list(range(1, d))\n",
    "\n",
    "    # Prepare a dictionary to hold mars_esm_ values for each scenario\n",
    "    mars_esm_ = {}\n",
    "\n",
    "    # Iterate over each scenario\n",
    "    for scenario in my_list:\n",
    "        # Prepare a list to hold mars_esm_ values for the current scenario\n",
    "        mars_esm_[scenario] = []\n",
    "\n",
    "        # For each day in the range of durations, compute and append the mars_esm_ value\n",
    "        for duration in durations:\n",
    "            mars_esm_[scenario].append(\n",
    "                (df_sum[scenario]['Mass'] + (df_sum[scenario]['Volume'] * Veq) + (df_sum[scenario]['Power'] * Peq) + (df_sum[scenario]['Cooling'] * Ceq) + (df_sum[scenario]['Crewtime'] * duration * CTeq) + (df_sum[scenario]['Water'] * duration * Weq)) * 1 / ((df_sum[scenario]['Resource'] * duration * Req) + (df_sum[scenario]['Medicine'] * duration * Medeq) + (df_sum[scenario]['Nutrients'] * duration * Nuteq) + (df_sum[scenario]['Material'] * duration * Mateq) + 1)\n",
    "            )\n",
    "\n",
    "    # Create a new figure for plotting\n",
    "    plt.figure(2)\n",
    "\n",
    "    # Set the figure size\n",
    "    plt.figure(figsize=(18, 6))\n",
    "    \n",
    "    # For each scenario, plot the mars_esm_ values over time\n",
    "    for scenario in my_list:\n",
    "        plt.plot(durations, mars_esm_[scenario], label=subframes[scenario]['Tag'].iloc[0])\n",
    "\n",
    "    # Label the x-axis\n",
    "    plt.xlabel(\"Days in Operation\")\n",
    "\n",
    "    # Label the y-axis\n",
    "    plt.ylabel(\"Mars ESM (kg)\")\n",
    "\n",
    "    # Display the title\n",
    "    plt.title('Mars ESM Comparision')\n",
    "\n",
    "    # Add a legend\n",
    "    plt.legend()\n",
    "\n",
    "    plt.show()\n",
    "\n",
    "# Create sliders for all of the below values\n",
    "interactive_plot = interactive(plot_mars_esm, d=(1,1000,1), Veq=(0, 1, 0.01), Peq=(0, 1, 0.01), Ceq=(0, 1, 0.01), CTeq=(0, 1, 0.01), Weq=(0, 1, 0.01), Req=(0, 1, 0.01), \n",
    "          Medeq=(0, 1, 0.01), Nuteq=(0, 1, 0.01), Mateq=(0, 1, 0.01))\n",
    "output = interactive_plot.children[-1]\n",
    "output.layout.height = '50'\n",
    "interactive_plot"
   ]
  },
  {
   "cell_type": "code",
   "execution_count": null,
   "id": "7d308734-3de6-4642-9b21-55920f07160e",
   "metadata": {},
   "outputs": [],
   "source": [
    "# Prompt the user to enter scenarios, split by commas\n",
    "my_list = input(\"Enter scenarios: \").split(\",\")\n",
    "# Remove any leading/trailing whitespace from each scenario\n",
    "my_list = [scenario.replace(\" \", \"\") for scenario in my_list]\n",
    "\n",
    "# Prepare a dictionary to hold sub-dataframes (subframes) for each scenario\n",
    "subframes = {}\n",
    "# Prepare a dictionary to hold summary data for each scenario\n",
    "df_sum = {}\n",
    "# Iterate over each entered scenario\n",
    "for scenario in my_list:\n",
    "    # Filter the main dataframe to include only rows where 'Tag' contains the current scenario\n",
    "    # Reset the index of the resulting sub-dataframe for easier handling\n",
    "    subframes[scenario] = df[df['Tag'].str.contains(scenario)].reset_index(drop=True)\n",
    "    # Create a summary row for the sub-dataframe, which includes the sum for numerical columns\n",
    "    # and concatenation for non-numerical columns\n",
    "    df_sum[scenario] = subframes[scenario].apply(lambda x: x.sum() if x.dtype.kind in 'bifc' else ' '.join(x[x.notnull()].tolist()))\n",
    "    # Assign the 'Tag' value of the summary row to be the first 'Tag' value of the sub-dataframe, or \"No Match\" if the sub-dataframe is empty\n",
    "    df_sum[scenario]['Tag'] = subframes[scenario]['Tag'][0] if not subframes[scenario].empty else \"No Match\"\n",
    "    # Append the summary row to the sub-dataframe\n",
    "    subframes[scenario] = subframes[scenario].append(df_sum[scenario], ignore_index = True)\n",
    "\n",
    "# Define the main plotting function, which takes several parameters that influence the computation of mars_esm_\n",
    "def plot_mars_esm(d, Veq, Peq, Ceq, CTeq, Weq, Req, Medeq, Nuteq, Mateq):\n",
    "    # Prepare a list of days to be evaluated, starting from day 1 to day 'd'\n",
    "    durations = list(range(1, d))\n",
    "\n",
    "    # Prepare a dictionary to hold mars_esm_ values for each scenario\n",
    "    mars_esm_ = {}\n",
    "\n",
    "    # Iterate over each scenario\n",
    "    for scenario in my_list:\n",
    "        # Prepare a list to hold mars_esm_ values for the current scenario\n",
    "        mars_esm_[scenario] = []\n",
    "\n",
    "        # For each day in the range of durations, compute and append the mars_esm_ value\n",
    "        for duration in durations:\n",
    "            mars_esm_[scenario].append(\n",
    "                (df_sum[scenario]['Mass'] + (df_sum[scenario]['Volume'] * Veq) + (df_sum[scenario]['Power'] * Peq) + (df_sum[scenario]['Cooling'] * Ceq) + (df_sum[scenario]['Crewtime'] * duration * CTeq) + (df_sum[scenario]['Water'] * duration * Weq)) * 1 / ((df_sum[scenario]['Resource'] * duration * Req) + (df_sum[scenario]['Medicine'] * duration * Medeq) + (df_sum[scenario]['Nutrients'] * duration * Nuteq) + (df_sum[scenario]['Material'] * duration * Mateq) + 1)\n",
    "            )\n",
    "\n",
    "    # Create a new figure for plotting\n",
    "    plt.figure(2)\n",
    "\n",
    "    # Set the figure size\n",
    "    plt.figure(figsize=(18, 6))\n",
    "    \n",
    "    # For each scenario, plot the mars_esm_ values over time\n",
    "    for scenario in my_list:\n",
    "        plt.plot(durations, mars_esm_[scenario], label=subframes[scenario]['Tag'].iloc[0])\n",
    "\n",
    "    #\n"
   ]
  }
 ],
 "metadata": {
  "kernelspec": {
   "display_name": "Python 3 (ipykernel)",
   "language": "python",
   "name": "python3"
  },
  "language_info": {
   "codemirror_mode": {
    "name": "ipython",
    "version": 3
   },
   "file_extension": ".py",
   "mimetype": "text/x-python",
   "name": "python",
   "nbconvert_exporter": "python",
   "pygments_lexer": "ipython3",
   "version": "3.10.8"
  }
 },
 "nbformat": 4,
 "nbformat_minor": 5
}
